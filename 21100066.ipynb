{
 "cells": [
  {
   "cell_type": "code",
   "execution_count": 1,
   "metadata": {},
   "outputs": [],
   "source": [
    "#IMPORT CELL\n",
    "import pandas as pd\n",
    "import string\n",
    "import re\n",
    "from collections import Counter\n",
    "from scipy.spatial import distance\n",
    "from scipy import stats\n",
    "import numpy as np\n",
    "import matplotlib.pyplot as plt\n",
    "import openpyxl\n",
    "# from jupyterthemes import jtplot\n",
    "from string import digits\n",
    "import glob\n",
    "import errno \n",
    "import math"
   ]
  },
  {
   "cell_type": "code",
   "execution_count": 2,
   "metadata": {},
   "outputs": [],
   "source": [
    "#Part 1"
   ]
  },
  {
   "cell_type": "code",
   "execution_count": 3,
   "metadata": {},
   "outputs": [],
   "source": [
    "trainpos = []\n",
    "trainneg = []\n",
    "testpos = []\n",
    "testneg = []\n",
    "\n",
    "stop_words = []\n",
    "with open('./Dataset/stop_words.txt',encoding='ISO-8859-1') as f:\n",
    "    stop_words = [line.rstrip() for line in f]\n",
    "    \n",
    "pos_words = []\n",
    "with open('./Dataset/positive_words.txt', encoding='ISO-8859-1') as f:\n",
    "    pos_words = [line.rstrip() for line in f]\n",
    "    \n",
    "neg_words = []\n",
    "with open('./Dataset/negative_words.txt', encoding='ISO-8859-1') as f:\n",
    "    neg_words = [line.rstrip() for line in f]"
   ]
  },
  {
   "cell_type": "code",
   "execution_count": 4,
   "metadata": {},
   "outputs": [],
   "source": [
    "paths = ['./Dataset/train/pos/*.txt', './Dataset/train/neg/*.txt', './Dataset/test/pos/*.txt', './Dataset/test/neg/*.txt']\n",
    "sent = []\n",
    "labels = ['pos','neg','pos','neg']\n",
    "\n",
    "for path in paths:\n",
    "\n",
    "    files = glob.glob(path) \n",
    "    l = []\n",
    "    for name in files: \n",
    "        try: \n",
    "            \n",
    "            with open(name,encoding='ISO-8859-1') as f: \n",
    "                p = f.read()\n",
    "               \n",
    "                l.append(p)\n",
    "            \n",
    "        except IOError as exc: \n",
    "            print(exc)\n",
    "            if exc.errno != errno.EISDIR: \n",
    "                raise \n",
    "    sent.append(l)"
   ]
  },
  {
   "cell_type": "code",
   "execution_count": 5,
   "metadata": {},
   "outputs": [],
   "source": [
    "def rmpunc(para):\n",
    "    return para.translate(str.maketrans(string.punctuation, ' '*len(string.punctuation)))"
   ]
  },
  {
   "cell_type": "code",
   "execution_count": 6,
   "metadata": {},
   "outputs": [],
   "source": [
    "#Cleaning\n",
    "\n",
    "for i, sen in enumerate(sent):\n",
    "    Revs = pd.DataFrame(sen, columns =['Reviews'])\n",
    "    \n",
    "    #To Lowercase\n",
    "    Revs['Reviews'] = Revs['Reviews'].str.lower()\n",
    "\n",
    "    #Removing stopwords\n",
    "    Revs['Reviews'] = Revs['Reviews'].apply(lambda x: ' '.join([word for word in x.split() if word not in (stop_words)]))\n",
    "\n",
    "    #Removing Punctuation\n",
    "    Revs['Reviews'] = Revs.apply(lambda row: rmpunc(row[\"Reviews\"]),axis=1 )\n",
    "    \n",
    "    sent[i] = Revs['Reviews'].tolist()"
   ]
  },
  {
   "cell_type": "code",
   "execution_count": 7,
   "metadata": {},
   "outputs": [],
   "source": [
    "trainpos = sent[0]\n",
    "ones = [1] * len(trainpos)\n",
    "\n",
    "trainneg = sent[1]\n",
    "zeroes = [0] * len(trainneg)\n",
    "\n",
    "\n",
    "trainrevs = trainpos + trainneg\n",
    "Train_Y = ones + zeroes\n",
    "\n",
    "\n",
    "testpos = sent[2]\n",
    "ones = [1] * len(testpos)\n",
    "\n",
    "testneg = sent[3]\n",
    "zeroes = [0] * len(testneg)\n",
    "\n",
    "\n",
    "testrevs = testpos + testneg\n",
    "Test_Y = ones + zeroes\n",
    "\n"
   ]
  },
  {
   "cell_type": "code",
   "execution_count": 8,
   "metadata": {
    "scrolled": true
   },
   "outputs": [],
   "source": [
    "Train_X = []\n",
    "Test_X = []"
   ]
  },
  {
   "cell_type": "code",
   "execution_count": 9,
   "metadata": {},
   "outputs": [
    {
     "data": {
      "text/plain": [
       "25000"
      ]
     },
     "metadata": {},
     "output_type": "display_data"
    }
   ],
   "source": [
    "for review in trainrevs:\n",
    "    pos_count = len([word for word in review.split() if word in (pos_words)])\n",
    "    neg_count = len([word for word in review.split() if word in (neg_words)])\n",
    "    Train_X.append([1,pos_count, neg_count])\n",
    "    \n",
    "\n",
    "\n",
    "display(len(Train_X))\n",
    "  "
   ]
  },
  {
   "cell_type": "code",
   "execution_count": 10,
   "metadata": {},
   "outputs": [
    {
     "data": {
      "text/plain": [
       "25000"
      ]
     },
     "metadata": {},
     "output_type": "display_data"
    }
   ],
   "source": [
    "for review in testrevs:\n",
    "    pos_count = len([word for word in review.split() if word in (pos_words)])\n",
    "    neg_count = len([word for word in review.split() if word in (neg_words)])\n",
    "    Test_X.append([1,pos_count, neg_count])\n",
    "    \n",
    "\n",
    "\n",
    "display(len(Test_X))\n",
    "  "
   ]
  },
  {
   "cell_type": "code",
   "execution_count": 11,
   "metadata": {},
   "outputs": [],
   "source": [
    "Train_X = np.array(Train_X)\n",
    "Test_X = np.array(Test_X)\n",
    "\n",
    "Train_Y = np.array(Train_Y)\n",
    "Test_Y = np.array(Test_Y)\n",
    "\n",
    "\n",
    "\n"
   ]
  },
  {
   "cell_type": "code",
   "execution_count": 12,
   "metadata": {},
   "outputs": [],
   "source": [
    "def sigmoid(thetaj, X):\n",
    "    h_x = np.matmul(thetaj, X)\n",
    "    return (1 / (1 + np.exp(-h_x))) \n",
    "\n",
    "def cross_entropy_loss(hx, Y):\n",
    "    m = Y.size\n",
    "    sum = (np.matmul(Y,np.log(hx)) + np.matmul(1-Y,np.log(1 - hx))).sum()\n",
    "    return (-1/m) * sum\n",
    "\n",
    "def gradientDescent(X, Y, thetaj, hx, alpha, n_epoch, costs):\n",
    "    \n",
    "    \n",
    "    m = Y.size\n",
    "    X = X.T\n",
    "    \n",
    "    for epoch in range(n_epoch):\n",
    "        \n",
    "        \n",
    "        for j in range(3):\n",
    "          diff = hx - Y\n",
    "          xj = X[j]\n",
    "          sum = (diff * xj).sum()\n",
    "          thetaj[j] = thetaj[j] - ((alpha / m) * sum)\n",
    "        \n",
    "        \n",
    "        \n",
    "        hx = sigmoid(thetaj,X)\n",
    "        costs.append(cross_entropy_loss(hx,Y))\n",
    "\n",
    "        \n",
    "        \n",
    "    return thetaj\n",
    "\n",
    "\n",
    "def predict(hx):\n",
    "    predicted_labels = []\n",
    "    for val in hx:\n",
    "        if val >= 0.5:\n",
    "            predicted_labels.append(1)\n",
    "        else:\n",
    "            predicted_labels.append(0)\n",
    "    return predicted_labels\n",
    "\n",
    "def match(col1, col2):\n",
    "    if col1 == col2:\n",
    "        return 1\n",
    "    else:\n",
    "        return 0\n",
    "    \n",
    "def generateCM(col1, col2, cm):\n",
    "    if col1 == 1 and col2 == 1:\n",
    "        cm.at['pos', 'pos'] += 1\n",
    "    elif col1 == 1 and col2 == 0:\n",
    "        cm.at['pos','neg'] +=1\n",
    "    elif col1 == 0 and col2 == 1:\n",
    "        cm.at['neg','pos'] +=1\n",
    "    elif col1 == 0 and col2 == 0:\n",
    "        cm.at['neg','neg'] +=1   \n",
    "    \n",
    "    \n",
    "\n",
    "def evaluation(predicted_labels, actual_labels):\n",
    "    prediction = pd.DataFrame({'Predicted Sentiment':predicted_labels, 'Actual Sentiment': actual_labels })\n",
    "    \n",
    " \n",
    "    \n",
    "    prediction[\"Count\"] = prediction.apply(lambda x: match(x['Predicted Sentiment'], x['Actual Sentiment']), axis=1)\n",
    "\n",
    "\n",
    "    matches = prediction[\"Count\"].sum()\n",
    "    samples = prediction.shape[0]\n",
    "    \n",
    "    accuracy = matches / samples\n",
    "    \n",
    "    cm = pd.DataFrame(index=['pos','neg'], columns=['pos','neg'])\n",
    "    cm = cm.fillna(0)\n",
    "    prediction.apply(lambda x: generateCM(x['Predicted Sentiment'], x['Actual Sentiment'],cm), axis=1) \n",
    "    \n",
    "    return accuracy, cm\n",
    "    \n",
    "    \n",
    "    \n",
    "    \n",
    "    "
   ]
  },
  {
   "cell_type": "code",
   "execution_count": 13,
   "metadata": {},
   "outputs": [],
   "source": [
    "alphas = [0.1,0.01,0.001,0.0001]\n",
    "costForEachAlpha = []\n",
    "thetajForEachAlpha = []\n",
    "n_epoch = 10000"
   ]
  },
  {
   "cell_type": "code",
   "execution_count": 14,
   "metadata": {},
   "outputs": [
    {
     "name": "stderr",
     "output_type": "stream",
     "text": [
      "<ipython-input-12-a2d8495cf791>:7: RuntimeWarning: divide by zero encountered in log\n",
      "  sum = (np.matmul(Y,np.log(hx)) + np.matmul(1-Y,np.log(1 - hx))).sum()\n",
      "<ipython-input-12-a2d8495cf791>:7: RuntimeWarning: invalid value encountered in matmul\n",
      "  sum = (np.matmul(Y,np.log(hx)) + np.matmul(1-Y,np.log(1 - hx))).sum()\n"
     ]
    }
   ],
   "source": [
    "# h_x -> before passing into sigmoid\n",
    "# hx -> after passing into sigmoid\n",
    "\n",
    "\n",
    "for alpha in alphas:\n",
    "\n",
    "    \n",
    "#     alpha = 0.01\n",
    "    thetaj = np.zeros(3)\n",
    "    costs = []\n",
    "    hx = sigmoid(thetaj, Train_X.T)\n",
    "    thetaj = gradientDescent(Train_X, Train_Y, thetaj, hx, alpha, n_epoch,costs)\n",
    "    costForEachAlpha.append(costs)\n",
    "    thetajForEachAlpha.append(thetaj)\n",
    "\n"
   ]
  },
  {
   "cell_type": "code",
   "execution_count": 15,
   "metadata": {},
   "outputs": [
    {
     "data": {
      "image/png": "[encoded data removed]",
      "text/plain": [
       "<Figure size 432x288 with 1 Axes>"
      ]
     },
     "metadata": {
      "needs_background": "light"
     },
     "output_type": "display_data"
    },
    {
     "data": {
      "image/png": "[encoded data removed]",
      "text/plain": [
       "<Figure size 432x288 with 1 Axes>"
      ]
     },
     "metadata": {
      "needs_background": "light"
     },
     "output_type": "display_data"
    },
    {
     "data": {
      "image/png": "[encoded data removed]",
      "text/plain": [
       "<Figure size 432x288 with 1 Axes>"
      ]
     },
     "metadata": {
      "needs_background": "light"
     },
     "output_type": "display_data"
    },
    {
     "data": {
      "image/png": "[encoded data removed]",
      "text/plain": [
       "<Figure size 432x288 with 1 Axes>"
      ]
     },
     "metadata": {
      "needs_background": "light"
     },
     "output_type": "display_data"
    }
   ],
   "source": [
    "# plots with no. of iterations/ epochs on x-axis and training / validation loss on y-axis for each alpha\n",
    "import matplotlib.pyplot as plt\n",
    "\n",
    "for i, alpha in enumerate(alphas):\n",
    "    ep = np.array(list(range(0, n_epoch)))\n",
    "    plt.plot(ep, costForEachAlpha[i])\n",
    "    plt.xlabel('epochs')\n",
    "    plt.ylabel('training loss')\n",
    "    plt.title('Learning Rate for alpha = ' + str(alpha))\n",
    "    plt.show()"
   ]
  },
  {
   "cell_type": "code",
   "execution_count": 16,
   "metadata": {},
   "outputs": [
    {
     "data": {
      "text/plain": [
       "'cost for alpha 0.1 is 1.0882473514194142'"
      ]
     },
     "metadata": {},
     "output_type": "display_data"
    },
    {
     "data": {
      "text/plain": [
       "'cost for alpha 0.01 is 0.5563828239054903'"
      ]
     },
     "metadata": {},
     "output_type": "display_data"
    },
    {
     "data": {
      "text/plain": [
       "'cost for alpha 0.001 is 0.5570677702677461'"
      ]
     },
     "metadata": {},
     "output_type": "display_data"
    },
    {
     "data": {
      "text/plain": [
       "'cost for alpha 0.0001 is 0.558709622152698'"
      ]
     },
     "metadata": {},
     "output_type": "display_data"
    }
   ],
   "source": [
    "# cost (error) using learned parameters  𝜃  on train set for each alpha\n",
    "for i,thetaj in enumerate(thetajForEachAlpha):\n",
    "    hx = sigmoid(thetaj, Train_X.T)\n",
    "    trainerror = cross_entropy_loss(hx,Train_Y)\n",
    "\n",
    "    display(\"cost for alpha \" + str(alphas[i]) + \" is \" + str(trainerror))"
   ]
  },
  {
   "cell_type": "code",
   "execution_count": 17,
   "metadata": {},
   "outputs": [],
   "source": [
    "#Hence, since it yields the least cost, the most optimum value of alpha is 0.01 which corresponds to the second thetaj in the thetajForEachAlpha list\n",
    "#Therefore, we choose those values of thetaj\n",
    "thetaj = thetajForEachAlpha[1]"
   ]
  },
  {
   "cell_type": "code",
   "execution_count": 18,
   "metadata": {},
   "outputs": [],
   "source": [
    "#Prediction function\n",
    "hx = sigmoid(thetaj, Test_X.T)\n",
    "predicted_labels = predict(hx)\n",
    "actual_labels = Test_Y"
   ]
  },
  {
   "cell_type": "code",
   "execution_count": 19,
   "metadata": {},
   "outputs": [],
   "source": [
    "#Evaluation function\n",
    "accuracy, cm = evaluation(predicted_labels, actual_labels)"
   ]
  },
  {
   "cell_type": "code",
   "execution_count": 20,
   "metadata": {},
   "outputs": [
    {
     "data": {
      "text/plain": [
       "0.73044"
      ]
     },
     "metadata": {},
     "output_type": "display_data"
    },
    {
     "data": {
      "text/html": [
       "<div>\n",
       "<style scoped>\n",
       "    .dataframe tbody tr th:only-of-type {\n",
       "        vertical-align: middle;\n",
       "    }\n",
       "\n",
       "    .dataframe tbody tr th {\n",
       "        vertical-align: top;\n",
       "    }\n",
       "\n",
       "    .dataframe thead th {\n",
       "        text-align: right;\n",
       "    }\n",
       "</style>\n",
       "<table border=\"1\" class=\"dataframe\">\n",
       "  <thead>\n",
       "    <tr style=\"text-align: right;\">\n",
       "      <th></th>\n",
       "      <th>pos</th>\n",
       "      <th>neg</th>\n",
       "    </tr>\n",
       "  </thead>\n",
       "  <tbody>\n",
       "    <tr>\n",
       "      <th>pos</th>\n",
       "      <td>9033</td>\n",
       "      <td>3272</td>\n",
       "    </tr>\n",
       "    <tr>\n",
       "      <th>neg</th>\n",
       "      <td>3467</td>\n",
       "      <td>9228</td>\n",
       "    </tr>\n",
       "  </tbody>\n",
       "</table>\n",
       "</div>"
      ],
      "text/plain": [
       "      pos   neg\n",
       "pos  9033  3272\n",
       "neg  3467  9228"
      ]
     },
     "metadata": {},
     "output_type": "display_data"
    }
   ],
   "source": [
    "# Confusion matrix and accuracy\n",
    "display(accuracy)\n",
    "display(cm)"
   ]
  },
  {
   "cell_type": "code",
   "execution_count": 21,
   "metadata": {},
   "outputs": [],
   "source": [
    "#Part 2"
   ]
  },
  {
   "cell_type": "code",
   "execution_count": 22,
   "metadata": {},
   "outputs": [],
   "source": [
    "from sklearn.linear_model import LogisticRegression\n",
    "from sklearn.metrics import accuracy_score\n",
    "from sklearn.metrics import confusion_matrix\n",
    "\n",
    "clf = LogisticRegression(random_state=0).fit(Train_X, Train_Y)\n",
    "predicted_labels = clf.predict(Test_X)\n",
    "actual_labels = Test_Y\n",
    "accuracy = accuracy_score(actual_labels, predicted_labels)\n",
    "cm = confusion_matrix(actual_labels, predicted_labels)"
   ]
  },
  {
   "cell_type": "code",
   "execution_count": 23,
   "metadata": {},
   "outputs": [
    {
     "data": {
      "text/plain": [
       "0.73056"
      ]
     },
     "metadata": {},
     "output_type": "display_data"
    },
    {
     "data": {
      "text/plain": [
       "array([[9223, 3277],\n",
       "       [3459, 9041]])"
      ]
     },
     "metadata": {},
     "output_type": "display_data"
    }
   ],
   "source": [
    "# Confusion matrix and accuracy\n",
    "display(accuracy)\n",
    "display(cm)"
   ]
  },
  {
   "cell_type": "code",
   "execution_count": null,
   "metadata": {},
   "outputs": [],
   "source": []
  }
 ],
 "metadata": {
  "kernelspec": {
   "display_name": "Python 3",
   "language": "python",
   "name": "python3"
  },
  "language_info": {
   "codemirror_mode": {
    "name": "ipython",
    "version": 3
   },
   "file_extension": ".py",
   "mimetype": "text/x-python",
   "name": "python",
   "nbconvert_exporter": "python",
   "pygments_lexer": "ipython3",
   "version": "3.8.5"
  }
 },
 "nbformat": 4,
 "nbformat_minor": 4
}
